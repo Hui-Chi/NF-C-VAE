{
 "cells": [
  {
   "cell_type": "code",
   "execution_count": 1,
   "metadata": {},
   "outputs": [],
   "source": [
    "# from me_utils import *\n",
    "from scipy.stats import wasserstein_distance\n",
    "from sklearn.preprocessing import MinMaxScaler\n",
    "# import keras\n",
    "# from tensorflow import keras\n",
    "import pandas as pd\n",
    "from sklearn.neighbors import KernelDensity\n",
    "\n",
    "# from tensorflow.keras.layers import Lambda, Input, Dense, Add, Activation, Concatenate\n",
    "# from tensorflow.keras.models import Model\n",
    "# from tensorflow.keras import initializers\n",
    "# from tensorflow.keras import backend as K\n",
    "import numpy as np\n",
    "import matplotlib.pyplot as plt\n",
    "import glob\n",
    "from matplotlib.cm import get_cmap\n",
    "from cycler import cycler\n",
    "import sklearn\n",
    "from sklearn.utils import shuffle\n",
    "\n",
    "import torch"
   ]
  },
  {
   "cell_type": "code",
   "execution_count": 2,
   "metadata": {},
   "outputs": [],
   "source": [
    "nFeat = 4\n",
    "trainsize = 499889\n",
    "intermediate_dim = 128\n",
    "encoder_dim = 128\n",
    "batch_size = 1024\n",
    "latent_dim = 20\n",
    "epochs = 240\n",
    "eluvar = np.sqrt(1.55/intermediate_dim)"
   ]
  },
  {
   "cell_type": "code",
   "execution_count": 3,
   "metadata": {},
   "outputs": [],
   "source": [
    "# def sampling(args):\n",
    "#     \"\"\"Reparameterization trick by sampling fr an isotropic unit Gaussian.\n",
    "#     # Arguments:\n",
    "#         args (tensor): mean and log of variance of Q(z|X)\n",
    "#     # Returns:\n",
    "#         z (tensor): sampled latent vector\n",
    "#     \"\"\"\n",
    "\n",
    "#     z_mean, z_log_var = args\n",
    "#     batch = K.shape(z_mean)[0]\n",
    "#     dim = K.int_shape(z_mean)[1]\n",
    "#     # by default, random_normal has mean=0 and std=1.0\n",
    "#     epsilon = K.random_normal(shape=(batch, dim))\n",
    "#     return z_mean + K.exp(0.5 * z_log_var) * epsilon"
   ]
  },
  {
   "cell_type": "markdown",
   "metadata": {},
   "source": [
    "# load model"
   ]
  },
  {
   "cell_type": "code",
   "execution_count": 4,
   "metadata": {},
   "outputs": [],
   "source": [
    "# def create_encoder(X,y):\n",
    "# \tinputs = Concatenate()([X, y])\n",
    "# \tx1 = Dense(encoder_dim, activation='elu', kernel_initializer=initializers.random_normal(mean=0.0, stddev=eluvar))(inputs)\n",
    "# \tx2 = Dense(encoder_dim, kernel_initializer=initializers.random_normal(mean=0.0, stddev=eluvar))(x1)\n",
    "# \tx2 = Activation('elu')(x2)\n",
    "# \tx3 = Dense(encoder_dim, kernel_initializer=initializers.random_normal(mean=0.0, stddev=eluvar))(x2)\n",
    "# \tsc1 = Add()([x1,x3])\n",
    "# \tx3 = Activation('elu')(sc1)\n",
    "# \tx4 = Dense(encoder_dim, kernel_initializer=initializers.random_normal(mean=0.0, stddev=eluvar))(x3)\n",
    "# \tsc2 = Add()([x2,x4])\n",
    "# \tx4 = Activation('elu')(sc2)\n",
    "# \tx5 = Dense(encoder_dim, kernel_initializer=initializers.random_normal(mean=0.0, stddev=eluvar))(x4)\n",
    "# \tsc3 = Add()([x3,x5])\n",
    "# \tx5 = Activation('elu')(sc3)\n",
    "# \tx6 = Dense(encoder_dim, kernel_initializer=initializers.random_normal(mean=0.0, stddev=eluvar))(x5)\n",
    "# \tsc4 = Add()([x4,x6])\n",
    "# \tx6 = Activation('elu')(sc4)\n",
    "# \tz_mean = Dense(latent_dim, name='z_mean')(x6)\n",
    "# \tz_log_var = Dense(latent_dim, name='z_log_var')(x6)\n",
    "\n",
    "# \t# use reparameterization trick to push the sampling out as input\n",
    "# \t# note that \"output_shape\" isn't necessary with the TensorFlow backend\n",
    "# \tz = Lambda(sampling, output_shape=(latent_dim,), name='z')([z_mean, z_log_var])\n",
    "\n",
    "# \treturn Model([X, y], [z_mean, z_log_var, z], name='encoder')\n",
    "\n",
    "# encoder = create_encoder(Input(shape=(nFeat,)), Input(shape=(1,)))\n",
    "# encoder.summary()"
   ]
  },
  {
   "cell_type": "code",
   "execution_count": 5,
   "metadata": {},
   "outputs": [],
   "source": [
    "# def create_decoder(z,y):\n",
    "# \tlatent_inputs = Concatenate()([z, y])\n",
    "# \tx1 = Dense(intermediate_dim, activation='elu', kernel_initializer=initializers.random_normal(mean=0.0, stddev=eluvar))(latent_inputs)\n",
    "# \tx2 = Dense(encoder_dim, kernel_initializer=initializers.random_normal(mean=0.0, stddev=eluvar))(x1)\n",
    "# \tx2 = Activation('elu')(x2)\n",
    "# \tx3 = Dense(encoder_dim, kernel_initializer=initializers.random_normal(mean=0.0, stddev=eluvar))(x2)\n",
    "# \tsc1 = Add()([x1,x3])\n",
    "# \tx3 = Activation('elu')(sc1)\n",
    "# \tx4 = Dense(encoder_dim, kernel_initializer=initializers.random_normal(mean=0.0, stddev=eluvar))(x3)\n",
    "# \tsc2 = Add()([x2,x4])\n",
    "# \tx4 = Activation('elu')(sc2)\n",
    "# \tx5 = Dense(encoder_dim, kernel_initializer=initializers.random_normal(mean=0.0, stddev=eluvar))(x4)\n",
    "# \tsc3 = Add()([x3,x5])\n",
    "# \tx5 = Activation('elu')(sc3)\n",
    "# \tx6 = Dense(encoder_dim, kernel_initializer=initializers.random_normal(mean=0.0, stddev=eluvar))(x5)\n",
    "# \tsc4 = Add()([x4,x6])\n",
    "# \tx6 = Activation('elu')(sc4)\n",
    "# \toutputs = Dense(nFeat+1, activation='tanh')(x6)\n",
    "\n",
    "# \treturn Model([z, y], outputs, name='decoder')\n",
    "\n",
    "# # instantiate decoder model\n",
    "# decoder = create_decoder(Input(shape=(latent_dim,)), Input(shape=(1,)))\n",
    "# decoder.summary()"
   ]
  },
  {
   "cell_type": "code",
   "execution_count": 6,
   "metadata": {},
   "outputs": [],
   "source": [
    "# X_input = Input(shape=(nFeat,))\n",
    "# y_input = Input(shape=(1,))\n",
    "# z_mean, z_log_var, z = encoder([X_input,y_input])\n",
    "# outputs = decoder([z,y_input])\n",
    "# cvae = Model([X_input, y_input], outputs)"
   ]
  },
  {
   "cell_type": "code",
   "execution_count": 7,
   "metadata": {},
   "outputs": [],
   "source": [
    "# model1 = keras.models.load_model('/global/u2/a/agarabag/new_models/cbvae_LHCO2020_epoch240.h5')\n",
    "import torch\n",
    "model = torch.load(\"/global/u2/a/agarabag/DarkFlow/model_save/BEST_test_ConvF.pt\", map_location=torch.device('cpu'))\n",
    "# model.eval()"
   ]
  },
  {
   "cell_type": "code",
   "execution_count": 8,
   "metadata": {},
   "outputs": [],
   "source": [
    "list_of_cgen_models= [model]"
   ]
  },
  {
   "cell_type": "markdown",
   "metadata": {},
   "source": [
    "# Load real data"
   ]
  },
  {
   "cell_type": "code",
   "execution_count": 9,
   "metadata": {},
   "outputs": [],
   "source": [
    "innerdata_train = np.load(\"/global/homes/a/agarabag/anomoly_studies/test_cathode/CATHODE/separated_data/innerdata_train.npy\")\n",
    "innerdata_train = innerdata_train[innerdata_train[:,nFeat+1]==0]"
   ]
  },
  {
   "cell_type": "code",
   "execution_count": 10,
   "metadata": {},
   "outputs": [
    {
     "name": "stdout",
     "output_type": "stream",
     "text": [
      "number of events in innerdata_train: 59605\n",
      "number of events in innerdata with label=0 (bkg): 59605\n"
     ]
    }
   ],
   "source": [
    "# check number of total events & bkg in innerdata_train\n",
    "\n",
    "pd_innerdata_train = pd.DataFrame(innerdata_train, columns=[\"mjj\", \"mjmin\", \"mjmax-mjmin\", \"tau21j1\", \"tau21j2\", \"label\"])\n",
    "print(\"number of events in innerdata_train:\", len(pd_innerdata_train))\n",
    "pd_innerdata_train_bkg = pd_innerdata_train[pd_innerdata_train[\"label\"]==0]\n",
    "print(\"number of events in innerdata with label=0 (bkg):\", len(pd_innerdata_train_bkg))"
   ]
  },
  {
   "cell_type": "code",
   "execution_count": 11,
   "metadata": {},
   "outputs": [
    {
     "name": "stdout",
     "output_type": "stream",
     "text": [
      "shape of X_innerdata_train: (59605, 4)\n",
      "shape of y_innerdata_train: (59605,)\n"
     ]
    }
   ],
   "source": [
    "X_innerdata_train = innerdata_train[:,1:nFeat+1]\n",
    "y_innerdata_train = innerdata_train[:,0]\n",
    "\n",
    "print(\"shape of X_innerdata_train:\", X_innerdata_train.shape)\n",
    "print(\"shape of y_innerdata_train:\", y_innerdata_train.shape)"
   ]
  },
  {
   "cell_type": "code",
   "execution_count": 12,
   "metadata": {},
   "outputs": [],
   "source": [
    "train_features = [\"mjmin\", \"mjmax_minus_mjmin\", \"tau21j1\", \"tau21j2\"]\n",
    "condition_features = [\"mjj\"]\n",
    "\n",
    "nFeat = len(train_features)"
   ]
  },
  {
   "cell_type": "code",
   "execution_count": 13,
   "metadata": {},
   "outputs": [],
   "source": [
    "# create scaler\n",
    "\n",
    "outerdata_train = np.load(\"/global/homes/a/agarabag/anomoly_studies/test_cathode/CATHODE/separated_data/outerdata_train.npy\")\n",
    "outerdata_test = np.load(\"/global/homes/a/agarabag/anomoly_studies/test_cathode/CATHODE/separated_data/outerdata_test.npy\")\n",
    "outerdata_train = outerdata_train[outerdata_train[:,nFeat+1]==0]\n",
    "outerdata_test = outerdata_test[outerdata_test[:,nFeat+1]==0]\n",
    "\n",
    "X_data_train_unscaled = outerdata_train[:,1:nFeat+1]\n",
    "y_data_train_unscaled = outerdata_train[:,0]\n",
    "\n",
    "X_data_test_unscaled = outerdata_test[:,1:nFeat+1]\n",
    "y_data_test_unscaled = outerdata_test[:,0]\n",
    "\n",
    "X_data_unscaled = np.concatenate((X_data_train_unscaled, X_data_test_unscaled), axis=0)\n",
    "X_data = np.copy(X_data_unscaled)\n",
    "y_data = np.concatenate((y_data_train_unscaled, y_data_test_unscaled), axis=0)\n",
    "\n",
    "# scaler = MinMaxScaler((0,1)).fit(X_data)\n",
    "# scaler_mjj = MinMaxScaler((0,1)).fit(y_data.reshape(-1,1))\n",
    "x_max = np.empty(nFeat)\n",
    "for i in range(0,X_data.shape[1]):\n",
    "\tx_max[i] = np.max(np.abs(X_data[:,i]))\n",
    "\tif np.abs(x_max[i]) > 0: \n",
    "\t\tX_data[:,i] = X_data[:,i]/x_max[i]\n",
    "\telse:\n",
    "\t\tpass\n",
    "\n",
    "cond_max = np.max(np.abs(y_data))\n",
    "if np.abs(cond_max) > 0:\n",
    "    y_data = y_data/cond_max\n",
    "else:\n",
    "    pass"
   ]
  },
  {
   "cell_type": "markdown",
   "metadata": {},
   "source": [
    "# generate mjj distribution"
   ]
  },
  {
   "cell_type": "code",
   "execution_count": 14,
   "metadata": {},
   "outputs": [],
   "source": [
    "def quick_logit(x):\n",
    "    x_norm = (x-min(x))/(max(x)-min(x))\n",
    "    x_norm = x_norm[(x_norm != 0) & (x_norm != 1)]\n",
    "    logit = np.log(x_norm/(1-x_norm))\n",
    "    logit = logit[~np.isnan(logit)]\n",
    "    return logit"
   ]
  },
  {
   "cell_type": "code",
   "execution_count": 15,
   "metadata": {},
   "outputs": [],
   "source": [
    "def logit_transform_inverse(data, datamax, datamin):\n",
    "    \n",
    "    dataout = (datamin + datamax*np.exp(data))/(1 + np.exp(data))\n",
    "\n",
    "    return dataout"
   ]
  },
  {
   "cell_type": "code",
   "execution_count": 16,
   "metadata": {},
   "outputs": [
    {
     "name": "stdout",
     "output_type": "stream",
     "text": [
      "(59605,)\n",
      "shape of input mjj values (400000, 1)\n"
     ]
    }
   ],
   "source": [
    "# fitting and sampling KDE\n",
    "\n",
    "n_samples = 400000\n",
    "#n_samples = 1200000\n",
    "KDE_bandwidth = 0.01\n",
    "\n",
    "print(y_innerdata_train.shape)\n",
    "mjj_logit = quick_logit(y_innerdata_train)\n",
    "train_mjj_vals = logit_transform_inverse(KernelDensity(\n",
    "    bandwidth=KDE_bandwidth, kernel='gaussian').fit(\n",
    "        mjj_logit.reshape(-1, 1)).sample(n_samples),\n",
    "                                            max(y_innerdata_train).item(),\n",
    "                                            min(y_innerdata_train).item())\n",
    "\n",
    "print(\"shape of input mjj values\", train_mjj_vals.shape) "
   ]
  },
  {
   "cell_type": "markdown",
   "metadata": {},
   "source": [
    "# generate data"
   ]
  },
  {
   "cell_type": "code",
   "execution_count": 17,
   "metadata": {},
   "outputs": [],
   "source": [
    "\n",
    "# means_df = np.load('/global/u2/a/agarabag/DarkFlow/model_save/latent_std.npy')\n",
    "# mean = means_df.values\n",
    "# filename = '/global/u2/a/agarabag/new_models/LHCO2020/test/cbvae_LHCO2020_latent_std_20d_e-6.csv'\n",
    "# stds_df = pd.read_csv(filename, sep=' ', header=None)\n",
    "# std = stds_df.values"
   ]
  },
  {
   "cell_type": "code",
   "execution_count": 18,
   "metadata": {},
   "outputs": [],
   "source": [
    "# means_df.mean()"
   ]
  },
  {
   "cell_type": "code",
   "execution_count": 35,
   "metadata": {},
   "outputs": [],
   "source": [
    "import torch\n",
    "import torch.nn as nn\n",
    "from torch.autograd import Variable\n",
    "from torch.utils.data import DataLoader\n",
    "import torchvision.transforms as transforms\n",
    "import torchvision.datasets\n",
    "from sklearn.utils import shuffle\n",
    "from sklearn.preprocessing import StandardScaler\n",
    "# from pickle import dump\n",
    "# import numpy as np\n",
    "# import h5py\n",
    "\n",
    "import flows as flows\n",
    "from layers import MaskedConv2d, MaskedLinear, CNN_Flow_Layer, Dilation_Block\n",
    "\n",
    "\n",
    "\n",
    "##################  DEFINE MODEL  #####################\n",
    "class ConvNet(nn.Module):\n",
    "        def __init__(self):\n",
    "            super(ConvNet, self).__init__()\n",
    "\n",
    "            self.latent_dim = 15\n",
    "            self.test_mode = 0\n",
    "\n",
    "  \n",
    "            self.batch_size = 1024\n",
    "  \n",
    "                \n",
    "            self.q_z_output_dim = 16\n",
    "            self.z_size = self.latent_dim\n",
    "    \n",
    "            # self.q_z_nn = nn.Sequential(\n",
    "            #       nn.Conv2d(1, 32, kernel_size=4, stride=(1), padding=(0)),\n",
    "            #       nn.BatchNorm2d(32),\n",
    "            #       nn.ReLU(),\n",
    "            #       nn.Conv2d(32, 16, kernel_size=5, stride=(1), padding=(0)),\n",
    "            #       nn.BatchNorm2d(16),\n",
    "            #       nn.ReLU(),\n",
    "            #       nn.Conv2d(16, 8, kernel_size=7, stride=(1), padding=(0)),\n",
    "            #       nn.BatchNorm2d(8),\n",
    "            #       nn.ReLU()\n",
    "            #       ) \n",
    "            #\n",
    "            # self.mult_bn1 = nn.BatchNorm1d(161) \n",
    "            # self.dense1 = nn.Linear(161,self.q_z_output_dim) #161 - full(13+3)+met, 41-4LJ, 216 - full(13+4)+met+mult\n",
    "            # self.dnn_bn1 = nn.BatchNorm1d(self.q_z_output_dim)\n",
    "            self.q_z_mean = nn.Linear(self.q_z_output_dim, self.latent_dim)\n",
    "            self.q_z_logvar = nn.Linear(self.q_z_output_dim, self.latent_dim)\n",
    "            #\n",
    "            # self.dense3 = nn.Linear(self.latent_dim, self.q_z_output_dim)\n",
    "            # self.dnn_bn3 = nn.BatchNorm1d(self.q_z_output_dim)\n",
    "            # self.dense4 = nn.Linear(self.q_z_output_dim, 161)\n",
    "            # self.dnn_bn4 = nn.BatchNorm1d(161)\n",
    "            #\n",
    "            # self.p_x_nn = nn.Sequential(\n",
    "            #       nn.ConvTranspose2d(8, 16, kernel_size=(7,1), stride=(1), padding=(0)),\n",
    "            #       nn.BatchNorm2d(16),\n",
    "            #       nn.ReLU(),\n",
    "            #       nn.ConvTranspose2d(16, 32, kernel_size=(5,1), stride=(1), padding=(0)),\n",
    "            #       nn.BatchNorm2d(32),\n",
    "            #       nn.ReLU(),\n",
    "            #       nn.ConvTranspose2d(32, 1, kernel_size=(3,4), stride=(1), padding=(0))\n",
    "            #       ) \n",
    "            # self.p_x_nn = nn.Sequential(\n",
    "            #       nn.ConvTranspose2d(64, 64, kernel_size=4, stride=(1), padding=(0)),\n",
    "            #       nn.BatchNorm2d(64),\n",
    "            #       nn.ReLU(),\n",
    "            #       nn.ConvTranspose2d(64, 32, kernel_size=4, stride=(1), padding=(0)),\n",
    "            #       nn.BatchNorm2d(32),\n",
    "            #       nn.ReLU(),\n",
    "            #       nn.ConvTranspose2d(32, 16, kernel_size=4, stride=(1), padding=(0))\n",
    "            #       ) \n",
    "            self.dnn = nn.Sequential(\n",
    "                  nn.Linear(5, 64),\n",
    "                  nn.BatchNorm1d(64),\n",
    "                  nn.ReLU(),\n",
    "                  nn.Linear(64, 32),\n",
    "                  nn.BatchNorm1d(32),\n",
    "                  nn.ReLU(),\n",
    "                  nn.Linear(32, 16),\n",
    "                  nn.BatchNorm1d(16),\n",
    "                  nn.ReLU()\n",
    "                  ) \n",
    "            self.ddnn = nn.Sequential(\n",
    "                  nn.Linear(16, 64),\n",
    "                  nn.BatchNorm1d(64),\n",
    "                  nn.ReLU(),\n",
    "                  nn.Linear(64, 16),\n",
    "                  nn.BatchNorm1d(16),\n",
    "                  nn.ReLU(),\n",
    "                  nn.Linear(16, 4),\n",
    "                  # nn.BatchNorm1d(8),\n",
    "                  # nn.ReLU()\n",
    "                  ) \n",
    "            # log-det-jacobian = 0 without flows\n",
    "            self.ldj = 0\n",
    "    \n",
    "        def encode(self, x, y):\n",
    "          \n",
    "            # print(\"TTTTTTTTT: \", x.size(), y.size())\n",
    "            out = torch.cat((x, y),axis=1)\n",
    "            # print(\"TTTTTTTTT: \", out.ndim)\n",
    "            out = self.dnn(out)\n",
    "            # print(\"TTTTTTTTT0111\")\n",
    "            # out = torch.relu(out)\n",
    "\n",
    "            mean  = self.q_z_mean(out)\n",
    "            # print(\"TTTTTTTTT1\")\n",
    "            logvar = self.q_z_logvar(out)\n",
    "            # print(\"TTTTTTTTT2\")\n",
    "            return mean, logvar\n",
    "            \n",
    "    \n",
    "        def decode(self, z, y):\n",
    "            out = torch.cat((z, y),axis=1)\n",
    "            # print(\"TTTTTTTTT: \", out.size())\n",
    "            # print(\"TTTTTTTTT: \", out.ndim)\n",
    "            out = self.ddnn(out)\n",
    "            \n",
    "            return out\n",
    "    \n",
    "        def reparameterize(self, mean, logvar):\n",
    "            z = mean + torch.randn_like(mean) * torch.exp(0.5 * logvar)\n",
    "            return z\n",
    "    \n",
    "        def forward(self, x, y):\n",
    "            mean, logvar = self.encode(x, y)\n",
    "            z = self.reparameterize(mean, logvar)\n",
    "            out = self.decode(z, y)\n",
    "            return out, mean, logvar, self.ldj, z, z\n",
    "\n"
   ]
  },
  {
   "cell_type": "code",
   "execution_count": 36,
   "metadata": {},
   "outputs": [],
   "source": [
    "class CNN_Flow(nn.Module):\n",
    "    def __init__(self, dim, cnn_layers, kernel_size, test_mode=0, use_revert=True):\n",
    "        super(CNN_Flow, self).__init__()\n",
    "\n",
    "        # prepare reversion matrix\n",
    "        self.usecuda = True\n",
    "        self.use_revert = use_revert\n",
    "        self.R = Variable(torch.from_numpy(np.flip(np.eye(dim), axis=1).copy()).float(), requires_grad=False)\n",
    "        if self.usecuda:\n",
    "            self.R = self.R.cuda()\n",
    "        \n",
    "        self.layers = nn.ModuleList()\n",
    "        for i in range(cnn_layers):\n",
    "\n",
    "            block = Dilation_Block(dim, kernel_size, test_mode)\n",
    "            self.layers.append(block)\n",
    "        \n",
    "    def forward(self, x):\n",
    "        logdetSum = 0\n",
    "        output = x\n",
    "        for i in range(len(self.layers)):\n",
    "            output, logdet = self.layers[i](output)\n",
    "            # revert the dimension of the output after each block\n",
    "            if self.use_revert:\n",
    "                z = output.mm(self.R)\n",
    "            logdetSum += logdet\n",
    "\n",
    "        return z, logdetSum"
   ]
  },
  {
   "cell_type": "code",
   "execution_count": 37,
   "metadata": {},
   "outputs": [],
   "source": [
    "class ConvFlowVAE(ConvNet):\n",
    "    \"\"\"\n",
    "    Variational auto-encoder with convolutional flows in the encoder.\n",
    "    \"\"\"\n",
    "\n",
    "    def __init__(self):\n",
    "        super(ConvFlowVAE, self).__init__()\n",
    "\n",
    "        # Initialize log-det-jacobian to zero\n",
    "        self.log_det_j = 0\n",
    "        self.num_flows = 4#args.num_flows # 6 for chan1\n",
    "        self.kernel_size = 7\n",
    "\n",
    "        flow_k = CNN_Flow\n",
    "\n",
    "        # Normalizing flow layers\n",
    "        self.flow = flow_k(dim=self.latent_dim, cnn_layers=self.num_flows, kernel_size=self.kernel_size, test_mode=self.test_mode)\n",
    "\n",
    "    def forward(self, x, y):\n",
    "        self.met = y\n",
    "        self.log_det_j = 0\n",
    "\n",
    "        # mean and variance of z\n",
    "        z_mu, z_var = self.encode(x, y)\n",
    "        # sample z\n",
    "        z_0 = self.reparameterize(z_mu, z_var)\n",
    "\n",
    "        # Normalizing flows\n",
    "        z_k, logdet = self.flow(z_0)\n",
    "\n",
    "        x_decoded = self.decode(z_k, y)\n",
    "\n",
    "        return x_decoded, z_mu, z_var, self.log_det_j, z_0, z_k"
   ]
  },
  {
   "cell_type": "code",
   "execution_count": 38,
   "metadata": {},
   "outputs": [],
   "source": [
    "# model = ConvFlowVAE()\n",
    "# model.load_state_dict(torch.load(\"/global/u2/a/agarabag/DarkFlow/model_save/BEST_test_ConvF.pt\", map_location=torch.device('cpu')))"
   ]
  },
  {
   "cell_type": "code",
   "execution_count": 39,
   "metadata": {},
   "outputs": [],
   "source": [
    "def generate_cond_data(n_model,stats,y_samples):\n",
    "    noise = np.random.normal(0,1, [stats, 4])\n",
    "    model = ConvFlowVAE()\n",
    "    model.load_state_dict(torch.load(\"/global/u2/a/agarabag/DarkFlow/model_save/BEST_test_ConvF.pt\", map_location=torch.device('cpu')))\n",
    "    model.eval()\n",
    "    # input_test = noise.cuda().float()\n",
    "    # met_test = y_samples.cuda().float()\n",
    "    with torch.no_grad():\n",
    "        input_test = torch.tensor(noise.astype('float32'))\n",
    "        met_test = torch.tensor(y_samples.astype('float32'))\n",
    "        print(\"BBBBBBB: \", input_test.shape, met_test.shape)\n",
    "        new_events, z_mu, z_var, log_det_j, z0, zk = model(input_test, met_test)\n",
    "    \n",
    "    return new_events"
   ]
  },
  {
   "cell_type": "code",
   "execution_count": 40,
   "metadata": {},
   "outputs": [],
   "source": [
    "variables_names =  train_features\n",
    "vnames = train_features\n",
    "\n",
    "plotting_ranges = [(0,0.8), (0,1), (0,1), (0,1)]"
   ]
  },
  {
   "cell_type": "code",
   "execution_count": 41,
   "metadata": {},
   "outputs": [],
   "source": [
    "def fake_vs_real(gen_data,real_data,doLog,names):\n",
    "    \n",
    "    plt.figure(figsize=(20,10))\n",
    "    colors = [\"steelblue\", \"darkturquoise\"]\n",
    "    for p in range(0,nFeat):\n",
    "        R = np.linspace(plotting_ranges[p][0],plotting_ranges[p][1],51)\n",
    "        plt.subplot((nFeat+1)//2, 2, p+1)\n",
    "        for rd in real_data: b_hist_y, b_hist_x, _ = plt.hist(rd[:,p], R, color=\"black\", histtype='step', linewidth=2, label=\"Real Bkg\", density=True)        \n",
    "        for i,n in enumerate(gen_data): plt.hist(n[:,p], R, color=colors[i], histtype='stepfilled', alpha=0.5, linewidth=2, label=\"Generated Bkg %s\"%names[i], density=True)\n",
    "        # s_hist_y, s_hist_x, _ = plt.hist(sig_data[:,p], R, color=\"r\", histtype='step', linewidth=3, label=\"Signal\", density=True)\n",
    "        plt.xlabel(\"%s\"%variables_names[p])\n",
    "        if doLog == True: plt.yscale('log')\n",
    "        plt.ylabel(\"Number of Events / bin\")\n",
    "        plt.legend(fontsize=\"large\")\n",
    "        ymax_b = np.max(b_hist_y)\n",
    "        # ymax_s = np.max(s_hist_y)\n",
    "        plt.ylim(0,ymax_b*1.5)\n",
    "    plt.savefig(\"fake_gen_compare_cbvae_4var.png\")\n",
    "    "
   ]
  },
  {
   "cell_type": "code",
   "execution_count": 42,
   "metadata": {},
   "outputs": [
    {
     "name": "stdout",
     "output_type": "stream",
     "text": [
      "TTTTTT:  400000 (400000, 1) (400000, 1)\n",
      "BBBBBBB:  torch.Size([400000, 4]) torch.Size([400000, 1])\n"
     ]
    },
    {
     "ename": "RuntimeError",
     "evalue": "Tensor for 'out' is on CPU, Tensor for argument #1 'self' is on CPU, but expected them to be on GPU (while checking arguments for addmm)",
     "output_type": "error",
     "traceback": [
      "\u001b[0;31m---------------------------------------------------------------------------\u001b[0m",
      "\u001b[0;31mRuntimeError\u001b[0m                              Traceback (most recent call last)",
      "\u001b[0;32m<ipython-input-42-e501791dbe14>\u001b[0m in \u001b[0;36m<module>\u001b[0;34m\u001b[0m\n\u001b[1;32m      8\u001b[0m \u001b[0;34m\u001b[0m\u001b[0m\n\u001b[1;32m      9\u001b[0m     \u001b[0mprint\u001b[0m \u001b[0;34m(\u001b[0m\u001b[0;34m\"TTTTTT: \"\u001b[0m\u001b[0;34m,\u001b[0m \u001b[0mtrain_mjj_vals\u001b[0m\u001b[0;34m.\u001b[0m\u001b[0mshape\u001b[0m\u001b[0;34m[\u001b[0m\u001b[0;36m0\u001b[0m\u001b[0;34m]\u001b[0m\u001b[0;34m,\u001b[0m \u001b[0mtrain_mjj_vals\u001b[0m\u001b[0;34m.\u001b[0m\u001b[0mshape\u001b[0m\u001b[0;34m,\u001b[0m \u001b[0mtrain_mjj_vals_scaled\u001b[0m\u001b[0;34m.\u001b[0m\u001b[0mshape\u001b[0m\u001b[0;34m)\u001b[0m\u001b[0;34m\u001b[0m\u001b[0;34m\u001b[0m\u001b[0m\n\u001b[0;32m---> 10\u001b[0;31m     \u001b[0mfake_SR_t\u001b[0m \u001b[0;34m=\u001b[0m \u001b[0mgenerate_cond_data\u001b[0m\u001b[0;34m(\u001b[0m\u001b[0mi\u001b[0m\u001b[0;34m,\u001b[0m\u001b[0mtrain_mjj_vals\u001b[0m\u001b[0;34m.\u001b[0m\u001b[0mshape\u001b[0m\u001b[0;34m[\u001b[0m\u001b[0;36m0\u001b[0m\u001b[0;34m]\u001b[0m\u001b[0;34m,\u001b[0m\u001b[0mtrain_mjj_vals_scaled\u001b[0m\u001b[0;34m)\u001b[0m\u001b[0;34m\u001b[0m\u001b[0;34m\u001b[0m\u001b[0m\n\u001b[0m\u001b[1;32m     11\u001b[0m     \u001b[0;31m# fake_SR = fake_SR_t.cpu().detach().numpy()\u001b[0m\u001b[0;34m\u001b[0m\u001b[0;34m\u001b[0m\u001b[0;34m\u001b[0m\u001b[0m\n\u001b[1;32m     12\u001b[0m \u001b[0;34m\u001b[0m\u001b[0m\n",
      "\u001b[0;32m<ipython-input-39-d6bd28e5d1d3>\u001b[0m in \u001b[0;36mgenerate_cond_data\u001b[0;34m(n_model, stats, y_samples)\u001b[0m\n\u001b[1;32m     10\u001b[0m         \u001b[0mmet_test\u001b[0m \u001b[0;34m=\u001b[0m \u001b[0mtorch\u001b[0m\u001b[0;34m.\u001b[0m\u001b[0mtensor\u001b[0m\u001b[0;34m(\u001b[0m\u001b[0my_samples\u001b[0m\u001b[0;34m.\u001b[0m\u001b[0mastype\u001b[0m\u001b[0;34m(\u001b[0m\u001b[0;34m'float32'\u001b[0m\u001b[0;34m)\u001b[0m\u001b[0;34m)\u001b[0m\u001b[0;34m\u001b[0m\u001b[0;34m\u001b[0m\u001b[0m\n\u001b[1;32m     11\u001b[0m         \u001b[0mprint\u001b[0m\u001b[0;34m(\u001b[0m\u001b[0;34m\"BBBBBBB: \"\u001b[0m\u001b[0;34m,\u001b[0m \u001b[0minput_test\u001b[0m\u001b[0;34m.\u001b[0m\u001b[0mshape\u001b[0m\u001b[0;34m,\u001b[0m \u001b[0mmet_test\u001b[0m\u001b[0;34m.\u001b[0m\u001b[0mshape\u001b[0m\u001b[0;34m)\u001b[0m\u001b[0;34m\u001b[0m\u001b[0;34m\u001b[0m\u001b[0m\n\u001b[0;32m---> 12\u001b[0;31m         \u001b[0mnew_events\u001b[0m\u001b[0;34m,\u001b[0m \u001b[0mz_mu\u001b[0m\u001b[0;34m,\u001b[0m \u001b[0mz_var\u001b[0m\u001b[0;34m,\u001b[0m \u001b[0mlog_det_j\u001b[0m\u001b[0;34m,\u001b[0m \u001b[0mz0\u001b[0m\u001b[0;34m,\u001b[0m \u001b[0mzk\u001b[0m \u001b[0;34m=\u001b[0m \u001b[0mmodel\u001b[0m\u001b[0;34m(\u001b[0m\u001b[0minput_test\u001b[0m\u001b[0;34m,\u001b[0m \u001b[0mmet_test\u001b[0m\u001b[0;34m)\u001b[0m\u001b[0;34m\u001b[0m\u001b[0;34m\u001b[0m\u001b[0m\n\u001b[0m\u001b[1;32m     13\u001b[0m \u001b[0;34m\u001b[0m\u001b[0m\n\u001b[1;32m     14\u001b[0m     \u001b[0;32mreturn\u001b[0m \u001b[0mnew_events\u001b[0m\u001b[0;34m\u001b[0m\u001b[0;34m\u001b[0m\u001b[0m\n",
      "\u001b[0;32m/usr/common/software/pytorch/1.8.0-gpu/lib/python3.8/site-packages/torch/nn/modules/module.py\u001b[0m in \u001b[0;36m_call_impl\u001b[0;34m(self, *input, **kwargs)\u001b[0m\n\u001b[1;32m    887\u001b[0m             \u001b[0mresult\u001b[0m \u001b[0;34m=\u001b[0m \u001b[0mself\u001b[0m\u001b[0;34m.\u001b[0m\u001b[0m_slow_forward\u001b[0m\u001b[0;34m(\u001b[0m\u001b[0;34m*\u001b[0m\u001b[0minput\u001b[0m\u001b[0;34m,\u001b[0m \u001b[0;34m**\u001b[0m\u001b[0mkwargs\u001b[0m\u001b[0;34m)\u001b[0m\u001b[0;34m\u001b[0m\u001b[0;34m\u001b[0m\u001b[0m\n\u001b[1;32m    888\u001b[0m         \u001b[0;32melse\u001b[0m\u001b[0;34m:\u001b[0m\u001b[0;34m\u001b[0m\u001b[0;34m\u001b[0m\u001b[0m\n\u001b[0;32m--> 889\u001b[0;31m             \u001b[0mresult\u001b[0m \u001b[0;34m=\u001b[0m \u001b[0mself\u001b[0m\u001b[0;34m.\u001b[0m\u001b[0mforward\u001b[0m\u001b[0;34m(\u001b[0m\u001b[0;34m*\u001b[0m\u001b[0minput\u001b[0m\u001b[0;34m,\u001b[0m \u001b[0;34m**\u001b[0m\u001b[0mkwargs\u001b[0m\u001b[0;34m)\u001b[0m\u001b[0;34m\u001b[0m\u001b[0;34m\u001b[0m\u001b[0m\n\u001b[0m\u001b[1;32m    890\u001b[0m         for hook in itertools.chain(\n\u001b[1;32m    891\u001b[0m                 \u001b[0m_global_forward_hooks\u001b[0m\u001b[0;34m.\u001b[0m\u001b[0mvalues\u001b[0m\u001b[0;34m(\u001b[0m\u001b[0;34m)\u001b[0m\u001b[0;34m,\u001b[0m\u001b[0;34m\u001b[0m\u001b[0;34m\u001b[0m\u001b[0m\n",
      "\u001b[0;32m<ipython-input-37-e7f3fcbe38d6>\u001b[0m in \u001b[0;36mforward\u001b[0;34m(self, x, y)\u001b[0m\n\u001b[1;32m     27\u001b[0m \u001b[0;34m\u001b[0m\u001b[0m\n\u001b[1;32m     28\u001b[0m         \u001b[0;31m# Normalizing flows\u001b[0m\u001b[0;34m\u001b[0m\u001b[0;34m\u001b[0m\u001b[0;34m\u001b[0m\u001b[0m\n\u001b[0;32m---> 29\u001b[0;31m         \u001b[0mz_k\u001b[0m\u001b[0;34m,\u001b[0m \u001b[0mlogdet\u001b[0m \u001b[0;34m=\u001b[0m \u001b[0mself\u001b[0m\u001b[0;34m.\u001b[0m\u001b[0mflow\u001b[0m\u001b[0;34m(\u001b[0m\u001b[0mz_0\u001b[0m\u001b[0;34m)\u001b[0m\u001b[0;34m\u001b[0m\u001b[0;34m\u001b[0m\u001b[0m\n\u001b[0m\u001b[1;32m     30\u001b[0m \u001b[0;34m\u001b[0m\u001b[0m\n\u001b[1;32m     31\u001b[0m         \u001b[0mx_decoded\u001b[0m \u001b[0;34m=\u001b[0m \u001b[0mself\u001b[0m\u001b[0;34m.\u001b[0m\u001b[0mdecode\u001b[0m\u001b[0;34m(\u001b[0m\u001b[0mz_k\u001b[0m\u001b[0;34m,\u001b[0m \u001b[0my\u001b[0m\u001b[0;34m)\u001b[0m\u001b[0;34m\u001b[0m\u001b[0;34m\u001b[0m\u001b[0m\n",
      "\u001b[0;32m/usr/common/software/pytorch/1.8.0-gpu/lib/python3.8/site-packages/torch/nn/modules/module.py\u001b[0m in \u001b[0;36m_call_impl\u001b[0;34m(self, *input, **kwargs)\u001b[0m\n\u001b[1;32m    887\u001b[0m             \u001b[0mresult\u001b[0m \u001b[0;34m=\u001b[0m \u001b[0mself\u001b[0m\u001b[0;34m.\u001b[0m\u001b[0m_slow_forward\u001b[0m\u001b[0;34m(\u001b[0m\u001b[0;34m*\u001b[0m\u001b[0minput\u001b[0m\u001b[0;34m,\u001b[0m \u001b[0;34m**\u001b[0m\u001b[0mkwargs\u001b[0m\u001b[0;34m)\u001b[0m\u001b[0;34m\u001b[0m\u001b[0;34m\u001b[0m\u001b[0m\n\u001b[1;32m    888\u001b[0m         \u001b[0;32melse\u001b[0m\u001b[0;34m:\u001b[0m\u001b[0;34m\u001b[0m\u001b[0;34m\u001b[0m\u001b[0m\n\u001b[0;32m--> 889\u001b[0;31m             \u001b[0mresult\u001b[0m \u001b[0;34m=\u001b[0m \u001b[0mself\u001b[0m\u001b[0;34m.\u001b[0m\u001b[0mforward\u001b[0m\u001b[0;34m(\u001b[0m\u001b[0;34m*\u001b[0m\u001b[0minput\u001b[0m\u001b[0;34m,\u001b[0m \u001b[0;34m**\u001b[0m\u001b[0mkwargs\u001b[0m\u001b[0;34m)\u001b[0m\u001b[0;34m\u001b[0m\u001b[0;34m\u001b[0m\u001b[0m\n\u001b[0m\u001b[1;32m    890\u001b[0m         for hook in itertools.chain(\n\u001b[1;32m    891\u001b[0m                 \u001b[0m_global_forward_hooks\u001b[0m\u001b[0;34m.\u001b[0m\u001b[0mvalues\u001b[0m\u001b[0;34m(\u001b[0m\u001b[0;34m)\u001b[0m\u001b[0;34m,\u001b[0m\u001b[0;34m\u001b[0m\u001b[0;34m\u001b[0m\u001b[0m\n",
      "\u001b[0;32m<ipython-input-36-9eb40dffb624>\u001b[0m in \u001b[0;36mforward\u001b[0;34m(self, x)\u001b[0m\n\u001b[1;32m     20\u001b[0m         \u001b[0moutput\u001b[0m \u001b[0;34m=\u001b[0m \u001b[0mx\u001b[0m\u001b[0;34m\u001b[0m\u001b[0;34m\u001b[0m\u001b[0m\n\u001b[1;32m     21\u001b[0m         \u001b[0;32mfor\u001b[0m \u001b[0mi\u001b[0m \u001b[0;32min\u001b[0m \u001b[0mrange\u001b[0m\u001b[0;34m(\u001b[0m\u001b[0mlen\u001b[0m\u001b[0;34m(\u001b[0m\u001b[0mself\u001b[0m\u001b[0;34m.\u001b[0m\u001b[0mlayers\u001b[0m\u001b[0;34m)\u001b[0m\u001b[0;34m)\u001b[0m\u001b[0;34m:\u001b[0m\u001b[0;34m\u001b[0m\u001b[0;34m\u001b[0m\u001b[0m\n\u001b[0;32m---> 22\u001b[0;31m             \u001b[0moutput\u001b[0m\u001b[0;34m,\u001b[0m \u001b[0mlogdet\u001b[0m \u001b[0;34m=\u001b[0m \u001b[0mself\u001b[0m\u001b[0;34m.\u001b[0m\u001b[0mlayers\u001b[0m\u001b[0;34m[\u001b[0m\u001b[0mi\u001b[0m\u001b[0;34m]\u001b[0m\u001b[0;34m(\u001b[0m\u001b[0moutput\u001b[0m\u001b[0;34m)\u001b[0m\u001b[0;34m\u001b[0m\u001b[0;34m\u001b[0m\u001b[0m\n\u001b[0m\u001b[1;32m     23\u001b[0m             \u001b[0;31m# revert the dimension of the output after each block\u001b[0m\u001b[0;34m\u001b[0m\u001b[0;34m\u001b[0m\u001b[0;34m\u001b[0m\u001b[0m\n\u001b[1;32m     24\u001b[0m             \u001b[0;32mif\u001b[0m \u001b[0mself\u001b[0m\u001b[0;34m.\u001b[0m\u001b[0muse_revert\u001b[0m\u001b[0;34m:\u001b[0m\u001b[0;34m\u001b[0m\u001b[0;34m\u001b[0m\u001b[0m\n",
      "\u001b[0;32m/usr/common/software/pytorch/1.8.0-gpu/lib/python3.8/site-packages/torch/nn/modules/module.py\u001b[0m in \u001b[0;36m_call_impl\u001b[0;34m(self, *input, **kwargs)\u001b[0m\n\u001b[1;32m    887\u001b[0m             \u001b[0mresult\u001b[0m \u001b[0;34m=\u001b[0m \u001b[0mself\u001b[0m\u001b[0;34m.\u001b[0m\u001b[0m_slow_forward\u001b[0m\u001b[0;34m(\u001b[0m\u001b[0;34m*\u001b[0m\u001b[0minput\u001b[0m\u001b[0;34m,\u001b[0m \u001b[0;34m**\u001b[0m\u001b[0mkwargs\u001b[0m\u001b[0;34m)\u001b[0m\u001b[0;34m\u001b[0m\u001b[0;34m\u001b[0m\u001b[0m\n\u001b[1;32m    888\u001b[0m         \u001b[0;32melse\u001b[0m\u001b[0;34m:\u001b[0m\u001b[0;34m\u001b[0m\u001b[0;34m\u001b[0m\u001b[0m\n\u001b[0;32m--> 889\u001b[0;31m             \u001b[0mresult\u001b[0m \u001b[0;34m=\u001b[0m \u001b[0mself\u001b[0m\u001b[0;34m.\u001b[0m\u001b[0mforward\u001b[0m\u001b[0;34m(\u001b[0m\u001b[0;34m*\u001b[0m\u001b[0minput\u001b[0m\u001b[0;34m,\u001b[0m \u001b[0;34m**\u001b[0m\u001b[0mkwargs\u001b[0m\u001b[0;34m)\u001b[0m\u001b[0;34m\u001b[0m\u001b[0;34m\u001b[0m\u001b[0m\n\u001b[0m\u001b[1;32m    890\u001b[0m         for hook in itertools.chain(\n\u001b[1;32m    891\u001b[0m                 \u001b[0m_global_forward_hooks\u001b[0m\u001b[0;34m.\u001b[0m\u001b[0mvalues\u001b[0m\u001b[0;34m(\u001b[0m\u001b[0;34m)\u001b[0m\u001b[0;34m,\u001b[0m\u001b[0;34m\u001b[0m\u001b[0;34m\u001b[0m\u001b[0m\n",
      "\u001b[0;32m/global/u2/a/agarabag/DarkFlow/layers.py\u001b[0m in \u001b[0;36mforward\u001b[0;34m(self, x)\u001b[0m\n\u001b[1;32m    219\u001b[0m         \u001b[0moutput\u001b[0m \u001b[0;34m=\u001b[0m \u001b[0mx\u001b[0m\u001b[0;34m\u001b[0m\u001b[0;34m\u001b[0m\u001b[0m\n\u001b[1;32m    220\u001b[0m         \u001b[0;32mfor\u001b[0m \u001b[0mi\u001b[0m \u001b[0;32min\u001b[0m \u001b[0mrange\u001b[0m\u001b[0;34m(\u001b[0m\u001b[0mlen\u001b[0m\u001b[0;34m(\u001b[0m\u001b[0mself\u001b[0m\u001b[0;34m.\u001b[0m\u001b[0mblock\u001b[0m\u001b[0;34m)\u001b[0m\u001b[0;34m)\u001b[0m\u001b[0;34m:\u001b[0m\u001b[0;34m\u001b[0m\u001b[0;34m\u001b[0m\u001b[0m\n\u001b[0;32m--> 221\u001b[0;31m             \u001b[0moutput\u001b[0m\u001b[0;34m,\u001b[0m \u001b[0mlogdet\u001b[0m \u001b[0;34m=\u001b[0m \u001b[0mself\u001b[0m\u001b[0;34m.\u001b[0m\u001b[0mblock\u001b[0m\u001b[0;34m[\u001b[0m\u001b[0mi\u001b[0m\u001b[0;34m]\u001b[0m\u001b[0;34m(\u001b[0m\u001b[0moutput\u001b[0m\u001b[0;34m)\u001b[0m\u001b[0;34m\u001b[0m\u001b[0;34m\u001b[0m\u001b[0m\n\u001b[0m\u001b[1;32m    222\u001b[0m             \u001b[0mlogdetSum\u001b[0m \u001b[0;34m+=\u001b[0m \u001b[0mlogdet\u001b[0m\u001b[0;34m\u001b[0m\u001b[0;34m\u001b[0m\u001b[0m\n\u001b[1;32m    223\u001b[0m \u001b[0;34m\u001b[0m\u001b[0m\n",
      "\u001b[0;32m/usr/common/software/pytorch/1.8.0-gpu/lib/python3.8/site-packages/torch/nn/modules/module.py\u001b[0m in \u001b[0;36m_call_impl\u001b[0;34m(self, *input, **kwargs)\u001b[0m\n\u001b[1;32m    887\u001b[0m             \u001b[0mresult\u001b[0m \u001b[0;34m=\u001b[0m \u001b[0mself\u001b[0m\u001b[0;34m.\u001b[0m\u001b[0m_slow_forward\u001b[0m\u001b[0;34m(\u001b[0m\u001b[0;34m*\u001b[0m\u001b[0minput\u001b[0m\u001b[0;34m,\u001b[0m \u001b[0;34m**\u001b[0m\u001b[0mkwargs\u001b[0m\u001b[0;34m)\u001b[0m\u001b[0;34m\u001b[0m\u001b[0;34m\u001b[0m\u001b[0m\n\u001b[1;32m    888\u001b[0m         \u001b[0;32melse\u001b[0m\u001b[0;34m:\u001b[0m\u001b[0;34m\u001b[0m\u001b[0;34m\u001b[0m\u001b[0m\n\u001b[0;32m--> 889\u001b[0;31m             \u001b[0mresult\u001b[0m \u001b[0;34m=\u001b[0m \u001b[0mself\u001b[0m\u001b[0;34m.\u001b[0m\u001b[0mforward\u001b[0m\u001b[0;34m(\u001b[0m\u001b[0;34m*\u001b[0m\u001b[0minput\u001b[0m\u001b[0;34m,\u001b[0m \u001b[0;34m**\u001b[0m\u001b[0mkwargs\u001b[0m\u001b[0;34m)\u001b[0m\u001b[0;34m\u001b[0m\u001b[0;34m\u001b[0m\u001b[0m\n\u001b[0m\u001b[1;32m    890\u001b[0m         for hook in itertools.chain(\n\u001b[1;32m    891\u001b[0m                 \u001b[0m_global_forward_hooks\u001b[0m\u001b[0;34m.\u001b[0m\u001b[0mvalues\u001b[0m\u001b[0;34m(\u001b[0m\u001b[0;34m)\u001b[0m\u001b[0;34m,\u001b[0m\u001b[0;34m\u001b[0m\u001b[0;34m\u001b[0m\u001b[0m\n",
      "\u001b[0;32m/global/u2/a/agarabag/DarkFlow/layers.py\u001b[0m in \u001b[0;36mforward\u001b[0;34m(self, x)\u001b[0m\n\u001b[1;32m    189\u001b[0m                 \u001b[0mactivation\u001b[0m \u001b[0;34m=\u001b[0m \u001b[0mactivation\u001b[0m\u001b[0;34m.\u001b[0m\u001b[0munsqueeze\u001b[0m\u001b[0;34m(\u001b[0m\u001b[0mdim\u001b[0m\u001b[0;34m=\u001b[0m\u001b[0;36m0\u001b[0m\u001b[0;34m)\u001b[0m\u001b[0;34m\u001b[0m\u001b[0;34m\u001b[0m\u001b[0m\n\u001b[1;32m    190\u001b[0m                 \u001b[0mactivation_gradient\u001b[0m \u001b[0;34m=\u001b[0m \u001b[0mactivation_gradient\u001b[0m\u001b[0;34m.\u001b[0m\u001b[0munsqueeze\u001b[0m\u001b[0;34m(\u001b[0m\u001b[0mdim\u001b[0m\u001b[0;34m=\u001b[0m\u001b[0;36m0\u001b[0m\u001b[0;34m)\u001b[0m\u001b[0;34m\u001b[0m\u001b[0;34m\u001b[0m\u001b[0m\n\u001b[0;32m--> 191\u001b[0;31m             \u001b[0moutput\u001b[0m \u001b[0;34m=\u001b[0m \u001b[0mactivation\u001b[0m\u001b[0;34m.\u001b[0m\u001b[0mmm\u001b[0m\u001b[0;34m(\u001b[0m\u001b[0mtorch\u001b[0m\u001b[0;34m.\u001b[0m\u001b[0mdiag\u001b[0m\u001b[0;34m(\u001b[0m\u001b[0mscale\u001b[0m\u001b[0;34m)\u001b[0m\u001b[0;34m)\u001b[0m\u001b[0;34m\u001b[0m\u001b[0;34m\u001b[0m\u001b[0m\n\u001b[0m\u001b[1;32m    192\u001b[0m             \u001b[0mactivation_gradient\u001b[0m \u001b[0;34m=\u001b[0m \u001b[0mactivation_gradient\u001b[0m\u001b[0;34m.\u001b[0m\u001b[0mmm\u001b[0m\u001b[0;34m(\u001b[0m\u001b[0mtorch\u001b[0m\u001b[0;34m.\u001b[0m\u001b[0mdiag\u001b[0m\u001b[0;34m(\u001b[0m\u001b[0mscale\u001b[0m\u001b[0;34m)\u001b[0m\u001b[0;34m)\u001b[0m\u001b[0;34m\u001b[0m\u001b[0;34m\u001b[0m\u001b[0m\n\u001b[1;32m    193\u001b[0m         \u001b[0;32melse\u001b[0m\u001b[0;34m:\u001b[0m\u001b[0;34m\u001b[0m\u001b[0;34m\u001b[0m\u001b[0m\n",
      "\u001b[0;31mRuntimeError\u001b[0m: Tensor for 'out' is on CPU, Tensor for argument #1 'self' is on CPU, but expected them to be on GPU (while checking arguments for addmm)"
     ]
    }
   ],
   "source": [
    "fake_SRs = []\n",
    "for i in range(len(list_of_cgen_models)):\n",
    "\n",
    "    if np.abs(cond_max) > 0:\n",
    "        train_mjj_vals_scaled = train_mjj_vals/cond_max\n",
    "    else:\n",
    "        train_mjj_vals_scaled = train_mjj_vals\n",
    "\n",
    "    print (\"TTTTTT: \", train_mjj_vals.shape[0], train_mjj_vals.shape, train_mjj_vals_scaled.shape)\n",
    "    fake_SR_t = generate_cond_data(i,train_mjj_vals.shape[0],train_mjj_vals_scaled)\n",
    "    # fake_SR = fake_SR_t.cpu().detach().numpy()\n",
    "\n",
    "    for i in range(0,fake_SR.shape[1]):\n",
    "    \tfake_SR[:,i]=fake_SR[:,i]*x_max[i]\n",
    "\n",
    "    fake_SRs.append(fake_SR)"
   ]
  },
  {
   "cell_type": "code",
   "execution_count": 55,
   "metadata": {},
   "outputs": [],
   "source": [
    "fake_SRs = np.array(fake_SRs)"
   ]
  },
  {
   "cell_type": "code",
   "execution_count": 56,
   "metadata": {},
   "outputs": [
    {
     "data": {
      "text/plain": [
       "(1, 400000, 4)"
      ]
     },
     "execution_count": 56,
     "metadata": {},
     "output_type": "execute_result"
    }
   ],
   "source": [
    "fake_SRs.shape\n"
   ]
  },
  {
   "cell_type": "code",
   "execution_count": 24,
   "metadata": {},
   "outputs": [],
   "source": [
    "np.save(\"fake_test_SR_cbvae_n400000.npy\", fake_SRs[0])"
   ]
  },
  {
   "cell_type": "code",
   "execution_count": 57,
   "metadata": {},
   "outputs": [
    {
     "data": {
      "image/png": "[encoded data removed]",
      "text/plain": [
       "<Figure size 1440x720 with 4 Axes>"
      ]
     },
     "metadata": {
      "needs_background": "light"
     },
     "output_type": "display_data"
    }
   ],
   "source": [
    "# cfake_sr = generate_cond_data(0,y_innerdata_train.shape[0],scaler_mjj.transform(y_innerdata_train.reshape(y_innerdata_train.shape[0],1)))\n",
    "fake_vs_real([fake_SRs[0]],[X_innerdata_train],0,[\"\"])\n"
   ]
  },
  {
   "cell_type": "code",
   "execution_count": 58,
   "metadata": {},
   "outputs": [],
   "source": [
    "fake_SBs = []\n",
    "for i in range(len(list_of_cgen_models)):\n",
    "\n",
    "    fake_SB = generate_cond_data(i,y_data.shape[0],y_data)\n",
    "\n",
    "    for i in range(0,fake_SB.shape[1]):\n",
    "    \tfake_SB[:,i]=fake_SB[:,i]*x_max[i]\n",
    "\n",
    "    fake_SBs.append(fake_SB)"
   ]
  },
  {
   "cell_type": "code",
   "execution_count": 59,
   "metadata": {},
   "outputs": [],
   "source": [
    "fake_SBs = np.array(fake_SBs)"
   ]
  },
  {
   "cell_type": "code",
   "execution_count": 60,
   "metadata": {},
   "outputs": [
    {
     "name": "stdout",
     "output_type": "stream",
     "text": [
      "(878648, 4)\n"
     ]
    }
   ],
   "source": [
    "print(fake_SBs[0].shape)"
   ]
  },
  {
   "cell_type": "code",
   "execution_count": 61,
   "metadata": {},
   "outputs": [
    {
     "data": {
      "image/png": "[encoded data removed]",
      "text/plain": [
       "<Figure size 1440x720 with 4 Axes>"
      ]
     },
     "metadata": {
      "needs_background": "light"
     },
     "output_type": "display_data"
    }
   ],
   "source": [
    "fake_vs_real([fake_SBs[0]],[X_data_unscaled],0,[\"\"])"
   ]
  },
  {
   "cell_type": "code",
   "execution_count": 29,
   "metadata": {},
   "outputs": [],
   "source": [
    "fileNameNN = '/workdir/huichi/DeepEvents/LHCO2020/4var/LHCO2020_cB-VAE_events.csv'\n",
    "dfNN = pd.read_csv(fileNameNN, delimiter = ' ', header=None, index_col=False)\n",
    "dNN = dfNN.to_numpy()"
   ]
  },
  {
   "cell_type": "code",
   "execution_count": 30,
   "metadata": {},
   "outputs": [
    {
     "data": {
      "image/png": "[encoded data removed]",
      "text/plain": [
       "<Figure size 1440x720 with 4 Axes>"
      ]
     },
     "metadata": {
      "needs_background": "light"
     },
     "output_type": "display_data"
    }
   ],
   "source": [
    "fake_vs_real([dNN],[X_data_unscaled],0,[\"\"])"
   ]
  },
  {
   "cell_type": "code",
   "execution_count": null,
   "metadata": {},
   "outputs": [],
   "source": []
  },
  {
   "cell_type": "code",
   "execution_count": 32,
   "metadata": {},
   "outputs": [
    {
     "ename": "NameError",
     "evalue": "name 'x_fake_SR' is not defined",
     "output_type": "error",
     "traceback": [
      "\u001b[0;31m---------------------------------------------------------------------------\u001b[0m",
      "\u001b[0;31mNameError\u001b[0m                                 Traceback (most recent call last)",
      "\u001b[0;32m/tmp/ipykernel_4279/2693133618.py\u001b[0m in \u001b[0;36m<module>\u001b[0;34m\u001b[0m\n\u001b[0;32m----> 1\u001b[0;31m \u001b[0mbkg_models\u001b[0m \u001b[0;34m=\u001b[0m \u001b[0;34m[\u001b[0m\u001b[0mx_fake_SR\u001b[0m\u001b[0;34m,\u001b[0m \u001b[0mx_real_SR\u001b[0m\u001b[0;34m]\u001b[0m\u001b[0;34m\u001b[0m\u001b[0;34m\u001b[0m\u001b[0m\n\u001b[0m\u001b[1;32m      2\u001b[0m \u001b[0mbkg_names\u001b[0m \u001b[0;34m=\u001b[0m \u001b[0;34m[\u001b[0m\u001b[0;34m\"GAN\"\u001b[0m\u001b[0;34m,\u001b[0m \u001b[0;34m\"MC\"\u001b[0m\u001b[0;34m]\u001b[0m\u001b[0;34m\u001b[0m\u001b[0;34m\u001b[0m\u001b[0m\n",
      "\u001b[0;31mNameError\u001b[0m: name 'x_fake_SR' is not defined"
     ]
    }
   ],
   "source": [
    "# Loop over signal size\n",
    "aucs = []\n",
    "rocs = []\n",
    "losses = []\n",
    "val_losses = []\n",
    "accs = []\n",
    "val_accs = []\n",
    "num_epoch=1000\n",
    "batch_size=5096\n",
    "\n",
    "ts = 60000\n",
    "\n",
    "bkg_models = [x_fake_SR, x_real_SR]\n",
    "bkg_names = [\"GAN\", \"MC\"]"
   ]
  },
  {
   "cell_type": "code",
   "execution_count": 31,
   "metadata": {},
   "outputs": [
    {
     "ename": "NameError",
     "evalue": "name 'bkg_models' is not defined",
     "output_type": "error",
     "traceback": [
      "\u001b[0;31m---------------------------------------------------------------------------\u001b[0m",
      "\u001b[0;31mNameError\u001b[0m                                 Traceback (most recent call last)",
      "\u001b[0;32m/tmp/ipykernel_4279/4210146503.py\u001b[0m in \u001b[0;36m<module>\u001b[0;34m\u001b[0m\n\u001b[0;32m----> 1\u001b[0;31m \u001b[0;32mfor\u001b[0m \u001b[0mbackground\u001b[0m \u001b[0;32min\u001b[0m \u001b[0mbkg_models\u001b[0m\u001b[0;34m:\u001b[0m\u001b[0;34m\u001b[0m\u001b[0;34m\u001b[0m\u001b[0m\n\u001b[0m\u001b[1;32m      2\u001b[0m     \u001b[0mX_train\u001b[0m\u001b[0;34m,\u001b[0m \u001b[0mX_val\u001b[0m\u001b[0;34m,\u001b[0m \u001b[0mX_test\u001b[0m\u001b[0;34m,\u001b[0m \u001b[0mY_train\u001b[0m\u001b[0;34m,\u001b[0m \u001b[0mY_val\u001b[0m\u001b[0;34m,\u001b[0m \u001b[0mY_test\u001b[0m \u001b[0;34m=\u001b[0m \u001b[0mprep_and_shufflesplit_data\u001b[0m\u001b[0;34m(\u001b[0m\u001b[0mbackground\u001b[0m\u001b[0;34m,\u001b[0m \u001b[0mbackground\u001b[0m\u001b[0;34m,\u001b[0m \u001b[0mx_sig_SR\u001b[0m\u001b[0;34m,\u001b[0m \u001b[0;36m1\u001b[0m\u001b[0;34m,\u001b[0m \u001b[0msize_each\u001b[0m \u001b[0;34m=\u001b[0m \u001b[0mts\u001b[0m\u001b[0;34m,\u001b[0m \u001b[0mshuffle_seed\u001b[0m \u001b[0;34m=\u001b[0m \u001b[0;36m62\u001b[0m\u001b[0;34m,\u001b[0m \u001b[0mval\u001b[0m \u001b[0;34m=\u001b[0m \u001b[0;36m0.2\u001b[0m\u001b[0;34m,\u001b[0m \u001b[0mtest_size_each\u001b[0m \u001b[0;34m=\u001b[0m \u001b[0;36m10000\u001b[0m\u001b[0;34m)\u001b[0m\u001b[0;34m\u001b[0m\u001b[0;34m\u001b[0m\u001b[0m\n\u001b[1;32m      3\u001b[0m     \u001b[0mdense_sizes\u001b[0m \u001b[0;34m=\u001b[0m \u001b[0;34m(\u001b[0m\u001b[0;36m100\u001b[0m\u001b[0;34m,\u001b[0m\u001b[0;36m100\u001b[0m\u001b[0;34m)\u001b[0m\u001b[0;34m\u001b[0m\u001b[0;34m\u001b[0m\u001b[0m\n\u001b[1;32m      4\u001b[0m     \u001b[0mmodel\u001b[0m \u001b[0;34m=\u001b[0m \u001b[0mDNN\u001b[0m\u001b[0;34m(\u001b[0m\u001b[0minput_dim\u001b[0m\u001b[0;34m=\u001b[0m\u001b[0;36m8\u001b[0m\u001b[0;34m,\u001b[0m \u001b[0mdropouts\u001b[0m\u001b[0;34m=\u001b[0m\u001b[0;36m0.2\u001b[0m\u001b[0;34m,\u001b[0m \u001b[0ml2_regs\u001b[0m\u001b[0;34m=\u001b[0m\u001b[0;36m1e-4\u001b[0m\u001b[0;34m,\u001b[0m \u001b[0mdense_sizes\u001b[0m\u001b[0;34m=\u001b[0m\u001b[0mdense_sizes\u001b[0m\u001b[0;34m,\u001b[0m \u001b[0msummary\u001b[0m\u001b[0;34m=\u001b[0m\u001b[0;32mFalse\u001b[0m\u001b[0;34m)\u001b[0m\u001b[0;34m\u001b[0m\u001b[0;34m\u001b[0m\u001b[0m\n\u001b[1;32m      5\u001b[0m     \u001b[0mauc\u001b[0m\u001b[0;34m,\u001b[0m \u001b[0mroc\u001b[0m\u001b[0;34m,\u001b[0m \u001b[0mloss\u001b[0m\u001b[0;34m,\u001b[0m \u001b[0macc\u001b[0m\u001b[0;34m,\u001b[0m \u001b[0mval_loss\u001b[0m\u001b[0;34m,\u001b[0m \u001b[0mval_acc\u001b[0m \u001b[0;34m=\u001b[0m \u001b[0mtrainingNN\u001b[0m\u001b[0;34m(\u001b[0m\u001b[0mmodel\u001b[0m\u001b[0;34m,\u001b[0m \u001b[0mnum_epoch\u001b[0m\u001b[0;34m,\u001b[0m \u001b[0;36m100\u001b[0m\u001b[0;34m,\u001b[0m \u001b[0mbatch_size\u001b[0m\u001b[0;34m,\u001b[0m \u001b[0mX_train\u001b[0m\u001b[0;34m,\u001b[0m \u001b[0mX_val\u001b[0m\u001b[0;34m,\u001b[0m \u001b[0mX_test\u001b[0m\u001b[0;34m,\u001b[0m \u001b[0mY_train\u001b[0m\u001b[0;34m,\u001b[0m \u001b[0mY_val\u001b[0m\u001b[0;34m,\u001b[0m \u001b[0mY_test\u001b[0m\u001b[0;34m)\u001b[0m\u001b[0;34m\u001b[0m\u001b[0;34m\u001b[0m\u001b[0m\n",
      "\u001b[0;31mNameError\u001b[0m: name 'bkg_models' is not defined"
     ]
    }
   ],
   "source": [
    "for background in bkg_models:\n",
    "    X_train, X_val, X_test, Y_train, Y_val, Y_test = prep_and_shufflesplit_data(background, background, x_sig_SR, 1, size_each = ts, shuffle_seed = 62, val = 0.2, test_size_each = 10000)\n",
    "    dense_sizes = (100,100)\n",
    "    model = DNN(input_dim=8, dropouts=0.2, l2_regs=1e-4, dense_sizes=dense_sizes, summary=False)\n",
    "    auc, roc, loss, acc, val_loss, val_acc = trainingNN(model, num_epoch, 100, batch_size, X_train, X_val, X_test, Y_train, Y_val, Y_test)\n",
    "    rocs.append(roc)\n",
    "    aucs.append(auc)\n",
    "    losses.append(loss)\n",
    "    accs.append(acc)\n",
    "    val_losses.append(val_loss)\n",
    "    val_accs.append(val_acc)"
   ]
  },
  {
   "cell_type": "code",
   "execution_count": null,
   "metadata": {},
   "outputs": [],
   "source": []
  }
 ],
 "metadata": {
  "interpreter": {
   "hash": "31f2aee4e71d21fbe5cf8b01ff0e069b9275f58929596ceb00d14d90e3e16cd6"
  },
  "kernelspec": {
   "display_name": "TOARCH",
   "language": "python",
   "name": "torch"
  },
  "language_info": {
   "codemirror_mode": {
    "name": "ipython",
    "version": 3
   },
   "file_extension": ".py",
   "mimetype": "text/x-python",
   "name": "python",
   "nbconvert_exporter": "python",
   "pygments_lexer": "ipython3",
   "version": "3.8.8"
  }
 },
 "nbformat": 4,
 "nbformat_minor": 4
}
